{
 "cells": [
  {
   "cell_type": "markdown",
   "metadata": {},
   "source": [
    " ## Markdown"
   ]
  },
  {
   "cell_type": "code",
   "execution_count": 1,
   "metadata": {},
   "outputs": [
    {
     "name": "stdout",
     "output_type": "stream",
     "text": [
      "Requirement already satisfied: imutils in c:\\users\\caspary5\\anaconda3\\lib\\site-packages (0.5.4)\n",
      "Requirement already satisfied: opencv-python in c:\\users\\caspary5\\anaconda3\\lib\\site-packages (4.6.0.66)\n",
      "Requirement already satisfied: numpy>=1.19.3 in c:\\users\\caspary5\\anaconda3\\lib\\site-packages (from opencv-python) (1.22.3)\n"
     ]
    }
   ],
   "source": [
    "!pip install imutils\n",
    "!pip install opencv-python"
   ]
  },
  {
   "cell_type": "code",
   "execution_count": 2,
   "metadata": {},
   "outputs": [
    {
     "name": "stdout",
     "output_type": "stream",
     "text": [
      "Loading model ...\n",
      "Model loaded\n",
      "Starting camera feed ...\n"
     ]
    },
    {
     "ename": "KeyboardInterrupt",
     "evalue": "",
     "output_type": "error",
     "traceback": [
      "\u001b[1;31m---------------------------------------------------------------------------\u001b[0m",
      "\u001b[1;31mKeyboardInterrupt\u001b[0m                         Traceback (most recent call last)",
      "\u001b[1;32mc:\\Users\\caspary5\\Documents\\hello_world\\face_detection.ipynb Cellule 3\u001b[0m in \u001b[0;36m<cell line: 27>\u001b[1;34m()\u001b[0m\n\u001b[0;32m     <a href='vscode-notebook-cell:/c%3A/Users/caspary5/Documents/hello_world/face_detection.ipynb#W2sZmlsZQ%3D%3D?line=50'>51</a>\u001b[0m   cv2\u001b[39m.\u001b[39mputText(frame,label,(startX,y),\n\u001b[0;32m     <a href='vscode-notebook-cell:/c%3A/Users/caspary5/Documents/hello_world/face_detection.ipynb#W2sZmlsZQ%3D%3D?line=51'>52</a>\u001b[0m               cv2\u001b[39m.\u001b[39mFONT_HERSHEY_SIMPLEX, \u001b[39m0.5\u001b[39m, COLORS[idx], \u001b[39m2\u001b[39m)\n\u001b[0;32m     <a href='vscode-notebook-cell:/c%3A/Users/caspary5/Documents/hello_world/face_detection.ipynb#W2sZmlsZQ%3D%3D?line=52'>53</a>\u001b[0m cv2\u001b[39m.\u001b[39mimshow(\u001b[39m\"\u001b[39m\u001b[39mFrame\u001b[39m\u001b[39m\"\u001b[39m, frame)\n\u001b[1;32m---> <a href='vscode-notebook-cell:/c%3A/Users/caspary5/Documents/hello_world/face_detection.ipynb#W2sZmlsZQ%3D%3D?line=53'>54</a>\u001b[0m key \u001b[39m=\u001b[39m cv2\u001b[39m.\u001b[39;49mwaitKey(\u001b[39m1\u001b[39;49m)\n\u001b[0;32m     <a href='vscode-notebook-cell:/c%3A/Users/caspary5/Documents/hello_world/face_detection.ipynb#W2sZmlsZQ%3D%3D?line=54'>55</a>\u001b[0m \u001b[39mif\u001b[39;00m key \u001b[39m==\u001b[39m \u001b[39m27\u001b[39m:\n\u001b[0;32m     <a href='vscode-notebook-cell:/c%3A/Users/caspary5/Documents/hello_world/face_detection.ipynb#W2sZmlsZQ%3D%3D?line=55'>56</a>\u001b[0m   \u001b[39mbreak\u001b[39;00m\n",
      "\u001b[1;31mKeyboardInterrupt\u001b[0m: "
     ]
    }
   ],
   "source": [
    " #importing necessary packages\n",
    "from imutils.video import VideoStream\n",
    "import imutils\n",
    "import numpy as np\n",
    "import argparse\n",
    "import time\n",
    "import cv2\n",
    "\n",
    "confThresh = 0.2\n",
    "\n",
    "CLASSES = [\"background\", \"aeroplane\", \"bicycle\", \"bird\", \"boat\",\n",
    "           \"bottle\", \"bus\", \"car\", \"cat\", \"chair\", \"cow\", \"diningtable\",\n",
    "           \"dog\", \"horse\", \"motorbike\", \"person\", \"pottedplant\", \"sheep\",\n",
    "           \"sofa\", \"train\", \"tvmonitor\"]\n",
    "\n",
    "COLORS = np.random.uniform(0, 255, size=(len(CLASSES), 3))\n",
    "\n",
    "print(\"Loading model ...\")\n",
    "net = cv2.dnn.readNetFromCaffe(\"MobileNetSSD_deploy.prototxt.txt\", \"MobileNetSSD_deploy.caffemodel\")\n",
    "\n",
    "print(\"Model loaded\")\n",
    "print(\"Starting camera feed ...\")\n",
    "vs = cv2.VideoCapture(0)  # which camera we gonna use\n",
    "time.sleep(2.0)\n",
    "\n",
    "while True:\n",
    "  _,frame = vs.read()\n",
    "  frame = imutils.resize(frame,width=500)\n",
    "  (h,w) = frame.shape[:2]\n",
    "  imResize = cv2.resize(frame, (300,300))\n",
    "  blob = cv2.dnn.blobFromImage(imResize, 0.007843, (300,300), 127.5)\n",
    "  net.setInput(blob)\n",
    "  detections = net.forward()\n",
    "\n",
    "  detShape = detections.shape[2]\n",
    "  for i in np.arange(0,detShape):\n",
    "    confidence = detections[0,0,i,2]\n",
    "    if confidence > confThresh:\n",
    "      idx = int(detections[0,0,i,1])\n",
    "      box = detections[0,0,i,3:7] * np.array([w,h,w,h])\n",
    "      (startX, startY, endX, endY) = box.astype(\"int\")\n",
    "\n",
    "      label = \"{}: {:.2f}%\".format(CLASSES[idx],\n",
    "                                   confidence * 100)\n",
    "      cv2.rectangle(frame, (startX, startY), (endX, endY),\n",
    "                    COLORS[idx],2)\n",
    "      if startY -15 >15:\n",
    "        y = startY - 15\n",
    "      else:\n",
    "        y = startY+15\n",
    "      cv2.putText(frame,label,(startX,y),\n",
    "                  cv2.FONT_HERSHEY_SIMPLEX, 0.5, COLORS[idx], 2)\n",
    "    cv2.imshow(\"Frame\", frame)\n",
    "    key = cv2.waitKey(1)\n",
    "    if key == 27:\n",
    "      break\n",
    "vs.release()\n",
    "cv2.destroyAllWindows()\n",
    "vs.stop()"
   ]
  }
 ],
 "metadata": {
  "kernelspec": {
   "display_name": "Python 3",
   "language": "python",
   "name": "python3"
  },
  "language_info": {
   "codemirror_mode": {
    "name": "ipython",
    "version": 3
   },
   "file_extension": ".py",
   "mimetype": "text/x-python",
   "name": "python",
   "nbconvert_exporter": "python",
   "pygments_lexer": "ipython3",
   "version": "3.9.16 (main, Dec  7 2022, 10:06:04) \n[Clang 14.0.0 (clang-1400.0.29.202)]"
  },
  "orig_nbformat": 4,
  "vscode": {
   "interpreter": {
    "hash": "a665b5d41d17b532ea9890333293a1b812fa0b73c9c25c950b3cedf1bebd0438"
   }
  }
 },
 "nbformat": 4,
 "nbformat_minor": 2
}
