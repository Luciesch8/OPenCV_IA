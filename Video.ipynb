{
 "cells": [
  {
   "cell_type": "markdown",
   "metadata": {},
   "source": [
    "**Vidéo**"
   ]
  },
  {
   "cell_type": "code",
   "execution_count": null,
   "metadata": {},
   "outputs": [],
   "source": [
    "import cv2\n",
    "from matplotlib import pyplot as plt\n",
    "\n",
    "def grab_frame(cap):\n",
    "    ret,frame = cap.read()\n",
    "    return cv2.cvtColor(frame,cv2.COLOR_BGR2RGB)\n",
    "\n",
    "cap = cv2.VideoCapture(0)\n",
    "\n",
    "# Crée un sous-affichage\n",
    "ax1 = plt.subplot(1,1,1)\n",
    "\n",
    "# Crée une sous-image\n",
    "im1 = ax1.imshow(grab_frame(cap))\n",
    "\n",
    "# Mode interactif\n",
    "plt.ion()\n",
    "\n",
    "cpt=0\n",
    "freq=0.04   # secondes\n",
    "tps = 5.  # secondes\n",
    "\n",
    "while cpt<tps:\n",
    "    # Capture frame par frame\n",
    "    im1.set_data(grab_frame(cap))\n",
    "    plt.pause(freq)\n",
    "    cpt=cpt+freq\n",
    "\n",
    "plt.ioff()\n",
    "plt.show()\n",
    "cap.release()\n"
   ]
  }
 ],
 "metadata": {
  "kernelspec": {
   "display_name": "Python 3.9.12 ('base')",
   "language": "python",
   "name": "python3"
  },
  "language_info": {
   "codemirror_mode": {
    "name": "ipython",
    "version": 3
   },
   "file_extension": ".py",
   "mimetype": "text/x-python",
   "name": "python",
   "nbconvert_exporter": "python",
   "pygments_lexer": "ipython3",
   "version": "3.9.12"
  },
  "orig_nbformat": 4,
  "vscode": {
   "interpreter": {
    "hash": "ab8c520f3e14f7b70fb25986aab544b3456fc51d7cfc53092bce76b6c884a92f"
   }
  }
 },
 "nbformat": 4,
 "nbformat_minor": 2
}
