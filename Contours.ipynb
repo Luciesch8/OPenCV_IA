{
 "cells": [
  {
   "cell_type": "markdown",
   "metadata": {},
   "source": [
    "**Détection de contours**  \n",
    "fonctionne sur des images aves un fond noir  \n",
    "tuto : https://kongakura.fr/article/D%C3%A9tecter-contours-opencv-findcontours "
   ]
  },
  {
   "cell_type": "code",
   "execution_count": 4,
   "metadata": {},
   "outputs": [],
   "source": [
    "import cv2\n",
    "import numpy as np\n",
    "\n",
    "img=cv2.imread (\"gommes.jpg\");  # test with gomme .jpg et gommes.jpg\n",
    "\n",
    "hsv = cv2.cvtColor(img, cv2.COLOR_BGR2HSV)\n",
    "h,s,v= cv2.split(hsv)\n",
    "ret_h, th_h = cv2.threshold(h,0,255,cv2.THRESH_BINARY+cv2.THRESH_OTSU)\n",
    "ret_s, th_s = cv2.threshold(s,0,255,cv2.THRESH_BINARY+cv2.THRESH_OTSU)\n",
    "\n",
    "#Fusion th_h et th_s\n",
    "th=cv2.bitwise_or(th_h,th_s)\n",
    "\n",
    "#Ajouts de bord à l'image\n",
    "bordersize=10\n",
    "th=cv2.copyMakeBorder(th, top=bordersize, bottom=bordersize, left=bordersize, right=bordersize, borderType= cv2.BORDER_CONSTANT, value=[0,0,0] )\n",
    "\n",
    "#Remplissage des contours\n",
    "im_floodfill = th.copy()\n",
    "h, w = th.shape[:2]\n",
    "mask = np.zeros((h+2, w+2), np.uint8)\n",
    "cv2.floodFill(im_floodfill, mask, (0,0), 255)\n",
    "im_floodfill_inv = cv2.bitwise_not(im_floodfill)\n",
    "th = th | im_floodfill_inv\n",
    "\n",
    "#Enlèvement des bord de l'image\n",
    "th=th[bordersize: len(th)-bordersize,bordersize: len(th[0])-bordersize]\n",
    "resultat=cv2.bitwise_and(img,img,mask=th)\n",
    "cv2.imwrite(\"im_floodfill.png\",im_floodfill)\n",
    "cv2.imwrite(\"th.png\",th)\n",
    "cv2.imwrite(\"resultat.png\",resultat)\n",
    "\n",
    "contours, hierarchy = cv2.findContours(th,cv2.RETR_TREE,cv2.CHAIN_APPROX_SIMPLE)\n",
    "for i in range (0, len(contours)) :\n",
    "    mask_BB_i = np.zeros((len(th),len(th[0])), np.uint8)\n",
    "    x,y,w,h = cv2.boundingRect(contours[i])\n",
    "    cv2.drawContours(mask_BB_i, contours, i, (255,255,255), -1)\n",
    "    BB_i=cv2.bitwise_and(img,img,mask=mask_BB_i)\n",
    "    if h >15 and w>15 :\n",
    "        BB_i=BB_i[y:y+h,x:x+w]\n",
    "        cv2.imwrite(\"BB_\"+str(i)+\".png\",BB_i)"
   ]
  }
 ],
 "metadata": {
  "kernelspec": {
   "display_name": "Python 3",
   "language": "python",
   "name": "python3"
  },
  "language_info": {
   "codemirror_mode": {
    "name": "ipython",
    "version": 3
   },
   "file_extension": ".py",
   "mimetype": "text/x-python",
   "name": "python",
   "nbconvert_exporter": "python",
   "pygments_lexer": "ipython3",
   "version": "3.9.16 (main, Dec  7 2022, 10:06:04) \n[Clang 14.0.0 (clang-1400.0.29.202)]"
  },
  "orig_nbformat": 4,
  "vscode": {
   "interpreter": {
    "hash": "a665b5d41d17b532ea9890333293a1b812fa0b73c9c25c950b3cedf1bebd0438"
   }
  }
 },
 "nbformat": 4,
 "nbformat_minor": 2
}
